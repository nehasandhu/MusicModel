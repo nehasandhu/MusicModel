{
 "cells": [
  {
   "cell_type": "markdown",
   "id": "fe4fac43",
   "metadata": {},
   "source": [
    "# Problem Discription\n"
   ]
  },
  {
   "cell_type": "markdown",
   "id": "3f6b8c12",
   "metadata": {},
   "source": [
    "For a given dataset of people with gender, age and genre of music that they prefer to listen to, You have to train a ML model, so that for a new person with a specific age and gender, your model will be able to predict what genre of music he/she will most likely prefer."
   ]
  },
  {
   "cell_type": "code",
   "execution_count": 5,
   "id": "fab2657b",
   "metadata": {},
   "outputs": [],
   "source": [
    "# importing the libraries\n",
    "import pandas as pd\n",
    "import numpy as np\n",
    "import matplotlib.pyplot as plt\n",
    "import seaborn as sns\n",
    "# ignoring warnings\n",
    "import warnings\n",
    "warnings.filterwarnings('ignore')"
   ]
  },
  {
   "cell_type": "code",
   "execution_count": 6,
   "id": "8e6a8efa",
   "metadata": {},
   "outputs": [
    {
     "data": {
      "text/html": [
       "<div>\n",
       "<style scoped>\n",
       "    .dataframe tbody tr th:only-of-type {\n",
       "        vertical-align: middle;\n",
       "    }\n",
       "\n",
       "    .dataframe tbody tr th {\n",
       "        vertical-align: top;\n",
       "    }\n",
       "\n",
       "    .dataframe thead th {\n",
       "        text-align: right;\n",
       "    }\n",
       "</style>\n",
       "<table border=\"1\" class=\"dataframe\">\n",
       "  <thead>\n",
       "    <tr style=\"text-align: right;\">\n",
       "      <th></th>\n",
       "      <th>age</th>\n",
       "      <th>gender</th>\n",
       "      <th>genre</th>\n",
       "    </tr>\n",
       "  </thead>\n",
       "  <tbody>\n",
       "    <tr>\n",
       "      <th>0</th>\n",
       "      <td>20</td>\n",
       "      <td>1</td>\n",
       "      <td>HipHop</td>\n",
       "    </tr>\n",
       "    <tr>\n",
       "      <th>1</th>\n",
       "      <td>23</td>\n",
       "      <td>1</td>\n",
       "      <td>HipHop</td>\n",
       "    </tr>\n",
       "    <tr>\n",
       "      <th>2</th>\n",
       "      <td>25</td>\n",
       "      <td>1</td>\n",
       "      <td>HipHop</td>\n",
       "    </tr>\n",
       "    <tr>\n",
       "      <th>3</th>\n",
       "      <td>26</td>\n",
       "      <td>1</td>\n",
       "      <td>Jazz</td>\n",
       "    </tr>\n",
       "    <tr>\n",
       "      <th>4</th>\n",
       "      <td>29</td>\n",
       "      <td>1</td>\n",
       "      <td>Jazz</td>\n",
       "    </tr>\n",
       "    <tr>\n",
       "      <th>5</th>\n",
       "      <td>30</td>\n",
       "      <td>1</td>\n",
       "      <td>Jazz</td>\n",
       "    </tr>\n",
       "    <tr>\n",
       "      <th>6</th>\n",
       "      <td>31</td>\n",
       "      <td>1</td>\n",
       "      <td>Classical</td>\n",
       "    </tr>\n",
       "    <tr>\n",
       "      <th>7</th>\n",
       "      <td>33</td>\n",
       "      <td>1</td>\n",
       "      <td>Classical</td>\n",
       "    </tr>\n",
       "    <tr>\n",
       "      <th>8</th>\n",
       "      <td>37</td>\n",
       "      <td>1</td>\n",
       "      <td>Classical</td>\n",
       "    </tr>\n",
       "    <tr>\n",
       "      <th>9</th>\n",
       "      <td>20</td>\n",
       "      <td>0</td>\n",
       "      <td>Dance</td>\n",
       "    </tr>\n",
       "  </tbody>\n",
       "</table>\n",
       "</div>"
      ],
      "text/plain": [
       "   age  gender      genre\n",
       "0   20       1     HipHop\n",
       "1   23       1     HipHop\n",
       "2   25       1     HipHop\n",
       "3   26       1       Jazz\n",
       "4   29       1       Jazz\n",
       "5   30       1       Jazz\n",
       "6   31       1  Classical\n",
       "7   33       1  Classical\n",
       "8   37       1  Classical\n",
       "9   20       0      Dance"
      ]
     },
     "execution_count": 6,
     "metadata": {},
     "output_type": "execute_result"
    }
   ],
   "source": [
    "# importing the dataset music\n",
    "df = pd.read_csv(\"music.csv\")\n",
    "df.head(10)"
   ]
  },
  {
   "cell_type": "code",
   "execution_count": 7,
   "id": "db3f9073",
   "metadata": {},
   "outputs": [
    {
     "data": {
      "text/plain": [
       "(18, 3)"
      ]
     },
     "execution_count": 7,
     "metadata": {},
     "output_type": "execute_result"
    }
   ],
   "source": [
    "# Checking the size of the dataset\n",
    "df.shape\n"
   ]
  },
  {
   "cell_type": "markdown",
   "id": "20ed56c3",
   "metadata": {},
   "source": [
    "Observation - The dataset has 18 rows and 3 columns\n"
   ]
  },
  {
   "cell_type": "code",
   "execution_count": 8,
   "id": "57db018e",
   "metadata": {},
   "outputs": [
    {
     "data": {
      "text/plain": [
       "age       0\n",
       "gender    0\n",
       "genre     0\n",
       "dtype: int64"
      ]
     },
     "execution_count": 8,
     "metadata": {},
     "output_type": "execute_result"
    }
   ],
   "source": [
    "# preprocessing the Dataset by dealing with the missing values in the Dataset\n",
    "df.isnull().sum()\n",
    "    "
   ]
  },
  {
   "cell_type": "markdown",
   "id": "250db117",
   "metadata": {},
   "source": [
    "Observation - There are no null values in the dataset.So we wont process the nu8ll value removal \n"
   ]
  },
  {
   "cell_type": "code",
   "execution_count": 9,
   "id": "fa24a56e",
   "metadata": {},
   "outputs": [
    {
     "data": {
      "text/plain": [
       "age        int64\n",
       "gender     int64\n",
       "genre     object\n",
       "dtype: object"
      ]
     },
     "execution_count": 9,
     "metadata": {},
     "output_type": "execute_result"
    }
   ],
   "source": [
    "# preprocessing the Dataset by dealing with the datypes in the Dataset\n",
    "df.dtypes"
   ]
  },
  {
   "cell_type": "markdown",
   "id": "53333266",
   "metadata": {},
   "source": [
    "Observation -The genre column is the object datatype "
   ]
  },
  {
   "cell_type": "code",
   "execution_count": 10,
   "id": "ac0badba",
   "metadata": {},
   "outputs": [
    {
     "name": "stdout",
     "output_type": "stream",
     "text": [
      "<class 'pandas.core.frame.DataFrame'>\n",
      "RangeIndex: 18 entries, 0 to 17\n",
      "Data columns (total 3 columns):\n",
      " #   Column  Non-Null Count  Dtype \n",
      "---  ------  --------------  ----- \n",
      " 0   age     18 non-null     int64 \n",
      " 1   gender  18 non-null     int64 \n",
      " 2   genre   18 non-null     object\n",
      "dtypes: int64(2), object(1)\n",
      "memory usage: 560.0+ bytes\n"
     ]
    }
   ],
   "source": [
    "# checking complete info\n",
    "df.info()"
   ]
  },
  {
   "cell_type": "code",
   "execution_count": 11,
   "id": "ec51403d",
   "metadata": {},
   "outputs": [
    {
     "data": {
      "text/html": [
       "<div>\n",
       "<style scoped>\n",
       "    .dataframe tbody tr th:only-of-type {\n",
       "        vertical-align: middle;\n",
       "    }\n",
       "\n",
       "    .dataframe tbody tr th {\n",
       "        vertical-align: top;\n",
       "    }\n",
       "\n",
       "    .dataframe thead th {\n",
       "        text-align: right;\n",
       "    }\n",
       "</style>\n",
       "<table border=\"1\" class=\"dataframe\">\n",
       "  <thead>\n",
       "    <tr style=\"text-align: right;\">\n",
       "      <th></th>\n",
       "      <th>genre_Classical</th>\n",
       "      <th>genre_Dance</th>\n",
       "      <th>genre_HipHop</th>\n",
       "      <th>genre_Jazz</th>\n",
       "    </tr>\n",
       "  </thead>\n",
       "  <tbody>\n",
       "    <tr>\n",
       "      <th>0</th>\n",
       "      <td>0</td>\n",
       "      <td>0</td>\n",
       "      <td>1</td>\n",
       "      <td>0</td>\n",
       "    </tr>\n",
       "    <tr>\n",
       "      <th>1</th>\n",
       "      <td>0</td>\n",
       "      <td>0</td>\n",
       "      <td>1</td>\n",
       "      <td>0</td>\n",
       "    </tr>\n",
       "    <tr>\n",
       "      <th>2</th>\n",
       "      <td>0</td>\n",
       "      <td>0</td>\n",
       "      <td>1</td>\n",
       "      <td>0</td>\n",
       "    </tr>\n",
       "    <tr>\n",
       "      <th>3</th>\n",
       "      <td>0</td>\n",
       "      <td>0</td>\n",
       "      <td>0</td>\n",
       "      <td>1</td>\n",
       "    </tr>\n",
       "    <tr>\n",
       "      <th>4</th>\n",
       "      <td>0</td>\n",
       "      <td>0</td>\n",
       "      <td>0</td>\n",
       "      <td>1</td>\n",
       "    </tr>\n",
       "  </tbody>\n",
       "</table>\n",
       "</div>"
      ],
      "text/plain": [
       "   genre_Classical  genre_Dance  genre_HipHop  genre_Jazz\n",
       "0                0            0             1           0\n",
       "1                0            0             1           0\n",
       "2                0            0             1           0\n",
       "3                0            0             0           1\n",
       "4                0            0             0           1"
      ]
     },
     "execution_count": 11,
     "metadata": {},
     "output_type": "execute_result"
    }
   ],
   "source": [
    "# Performing EDA \n",
    "#The columns Genre is Nominal Categorical data we will perform OneHotEncoding for the proper prediction.\n",
    "\n",
    "GenreData = df[[\"genre\"]]\n",
    "\n",
    "GenreData = pd.get_dummies(GenreData, drop_first = True)\n",
    "\n",
    "GenreData.head()\n",
    "\n"
   ]
  },
  {
   "cell_type": "code",
   "execution_count": 12,
   "id": "848a4e5e",
   "metadata": {},
   "outputs": [],
   "source": [
    "# Adding the genre data in the dataset\n",
    "finaldf = pd.concat([df, GenreData], axis = 1)"
   ]
  },
  {
   "cell_type": "code",
   "execution_count": 13,
   "id": "9caf181d",
   "metadata": {},
   "outputs": [
    {
     "data": {
      "text/html": [
       "<div>\n",
       "<style scoped>\n",
       "    .dataframe tbody tr th:only-of-type {\n",
       "        vertical-align: middle;\n",
       "    }\n",
       "\n",
       "    .dataframe tbody tr th {\n",
       "        vertical-align: top;\n",
       "    }\n",
       "\n",
       "    .dataframe thead th {\n",
       "        text-align: right;\n",
       "    }\n",
       "</style>\n",
       "<table border=\"1\" class=\"dataframe\">\n",
       "  <thead>\n",
       "    <tr style=\"text-align: right;\">\n",
       "      <th></th>\n",
       "      <th>age</th>\n",
       "      <th>gender</th>\n",
       "      <th>genre</th>\n",
       "      <th>genre_Classical</th>\n",
       "      <th>genre_Dance</th>\n",
       "      <th>genre_HipHop</th>\n",
       "      <th>genre_Jazz</th>\n",
       "    </tr>\n",
       "  </thead>\n",
       "  <tbody>\n",
       "    <tr>\n",
       "      <th>0</th>\n",
       "      <td>20</td>\n",
       "      <td>1</td>\n",
       "      <td>HipHop</td>\n",
       "      <td>0</td>\n",
       "      <td>0</td>\n",
       "      <td>1</td>\n",
       "      <td>0</td>\n",
       "    </tr>\n",
       "    <tr>\n",
       "      <th>1</th>\n",
       "      <td>23</td>\n",
       "      <td>1</td>\n",
       "      <td>HipHop</td>\n",
       "      <td>0</td>\n",
       "      <td>0</td>\n",
       "      <td>1</td>\n",
       "      <td>0</td>\n",
       "    </tr>\n",
       "    <tr>\n",
       "      <th>2</th>\n",
       "      <td>25</td>\n",
       "      <td>1</td>\n",
       "      <td>HipHop</td>\n",
       "      <td>0</td>\n",
       "      <td>0</td>\n",
       "      <td>1</td>\n",
       "      <td>0</td>\n",
       "    </tr>\n",
       "    <tr>\n",
       "      <th>3</th>\n",
       "      <td>26</td>\n",
       "      <td>1</td>\n",
       "      <td>Jazz</td>\n",
       "      <td>0</td>\n",
       "      <td>0</td>\n",
       "      <td>0</td>\n",
       "      <td>1</td>\n",
       "    </tr>\n",
       "    <tr>\n",
       "      <th>4</th>\n",
       "      <td>29</td>\n",
       "      <td>1</td>\n",
       "      <td>Jazz</td>\n",
       "      <td>0</td>\n",
       "      <td>0</td>\n",
       "      <td>0</td>\n",
       "      <td>1</td>\n",
       "    </tr>\n",
       "  </tbody>\n",
       "</table>\n",
       "</div>"
      ],
      "text/plain": [
       "   age  gender   genre  genre_Classical  genre_Dance  genre_HipHop  genre_Jazz\n",
       "0   20       1  HipHop                0            0             1           0\n",
       "1   23       1  HipHop                0            0             1           0\n",
       "2   25       1  HipHop                0            0             1           0\n",
       "3   26       1    Jazz                0            0             0           1\n",
       "4   29       1    Jazz                0            0             0           1"
      ]
     },
     "execution_count": 13,
     "metadata": {},
     "output_type": "execute_result"
    }
   ],
   "source": [
    "finaldf.head()"
   ]
  },
  {
   "cell_type": "code",
   "execution_count": null,
   "id": "c781e998",
   "metadata": {},
   "outputs": [],
   "source": [
    "# Droping the genre column in the dataset\n",
    "finaldf.drop([\"genre\"], axis = 1, inplace = True)"
   ]
  },
  {
   "cell_type": "code",
   "execution_count": null,
   "id": "30a6c535",
   "metadata": {},
   "outputs": [],
   "source": [
    "finaldf.head(5)"
   ]
  },
  {
   "cell_type": "code",
   "execution_count": null,
   "id": "cbad11c0",
   "metadata": {},
   "outputs": [],
   "source": [
    "finaldf.columns"
   ]
  },
  {
   "cell_type": "code",
   "execution_count": null,
   "id": "d8b5b55d",
   "metadata": {},
   "outputs": [],
   "source": [
    "# Finding out independent variable and assighning to y variable\n",
    "X = finaldf.loc[:,['age', 'genre_Classical', 'genre_Dance', 'genre_HipHop',\n",
    "       'genre_Jazz']]\n",
    "X.head()\n",
    "\n",
    "\n"
   ]
  },
  {
   "cell_type": "code",
   "execution_count": null,
   "id": "e2f8391f",
   "metadata": {},
   "outputs": [],
   "source": [
    "# Finding out dependent variable and assighning to y variable\n",
    "y = finaldf.iloc[:, 1]\n",
    "y.head()"
   ]
  },
  {
   "cell_type": "code",
   "execution_count": null,
   "id": "6ae00493",
   "metadata": {},
   "outputs": [],
   "source": [
    "# Finding correlation between Independent and dependent attributes\n",
    "\n",
    "plt.figure(figsize = (18,18))\n",
    "sns.heatmap(finaldf.corr(),annot = True, cmap = \"summer\")\n",
    "\n",
    "plt.show()"
   ]
  },
  {
   "cell_type": "markdown",
   "id": "fa4a61b4",
   "metadata": {},
   "source": [
    "# Logistic Regression"
   ]
  },
  {
   "cell_type": "code",
   "execution_count": null,
   "id": "207bcacd",
   "metadata": {},
   "outputs": [],
   "source": [
    "# Applying Linear Regression approach\n",
    "from sklearn.model_selection import train_test_split\n",
    "xtrain, xtest, ytrain, ytest = train_test_split(\n",
    "        X, y, test_size = 0.75, random_state = 0)"
   ]
  },
  {
   "cell_type": "code",
   "execution_count": null,
   "id": "fd517da0",
   "metadata": {},
   "outputs": [],
   "source": [
    "from sklearn.preprocessing import StandardScaler\n",
    "sc_x = StandardScaler()\n",
    "xtrain = sc_x.fit_transform(xtrain)\n",
    "xtest = sc_x.transform(xtest)\n",
    " \n",
    "print (xtrain[0:10, :])"
   ]
  },
  {
   "cell_type": "code",
   "execution_count": null,
   "id": "4019376e",
   "metadata": {},
   "outputs": [],
   "source": [
    "from sklearn.linear_model import LogisticRegression\n",
    "classifier = LogisticRegression(random_state = 2)\n",
    "classifier.fit(xtrain, ytrain)\n",
    "\n",
    "y_pred = classifier.predict(xtest)"
   ]
  },
  {
   "cell_type": "code",
   "execution_count": null,
   "id": "d4972de9",
   "metadata": {},
   "outputs": [],
   "source": [
    "# Let’s test the performance of our model – Confusion Matrix \n",
    "\n",
    "from sklearn.metrics import confusion_matrix\n",
    "cm = confusion_matrix(ytest, y_pred)\n",
    " \n",
    "print (\"Confusion Matrix : \\n\", cm)"
   ]
  },
  {
   "cell_type": "markdown",
   "id": "e39946de",
   "metadata": {},
   "source": [
    "\n",
    "Observation - \n",
    "True Positive + True Negative = 7+ 0\n",
    "False Positive + False Negative = 3 + 4"
   ]
  },
  {
   "cell_type": "code",
   "execution_count": null,
   "id": "bd3f0020",
   "metadata": {},
   "outputs": [],
   "source": [
    "#Performance measure – Accuracy \n",
    "from sklearn.metrics import accuracy_score\n",
    "print (\"Accuracy : \", accuracy_score(ytest, y_pred))"
   ]
  },
  {
   "cell_type": "markdown",
   "id": "6f325f10",
   "metadata": {},
   "source": [
    "# Decession Tree Approach"
   ]
  },
  {
   "cell_type": "code",
   "execution_count": 16,
   "id": "23b04505",
   "metadata": {},
   "outputs": [
    {
     "name": "stdout",
     "output_type": "stream",
     "text": [
      "[1 1 0 0 0 0 1 1 1 0 1 1 0 1 1 1 0 1 1 1 0 1 0 1 0 0 1 1 1 0 1 0 0 1 1 0 1\n",
      " 1 1 0 1 1 1 1 1 1 1 0 1 1 1 1 1 1 1 1 1 1 0 1 1 0 1 0 0]\n",
      "15\n",
      "20\n",
      "Gini : 0.0\n",
      "Accuracy is:  0.7666666666666667\n"
     ]
    },
    {
     "data": {
      "image/png": "[encoded data removed]",
      "text/plain": [
       "<Figure size 432x288 with 1 Axes>"
      ]
     },
     "metadata": {
      "needs_background": "light"
     },
     "output_type": "display_data"
    }
   ],
   "source": [
    "#%%\n",
    "from sklearn.datasets import make_classification\n",
    "from sklearn import tree\n",
    "from sklearn.model_selection import train_test_split\n",
    " \n",
    "X, t = make_classification(100, 5, n_classes = 2, shuffle = True, random_state= 10)\n",
    "X_train, X_test, t_train, t_test = train_test_split(X, t, test_size=0.65, shuffle = True, random_state=1)\n",
    "#%%\n",
    "model = tree.DecisionTreeClassifier()\n",
    "model = model.fit(X_train, t_train)\n",
    "#%%\n",
    "predicted_value = model.predict(X_test)\n",
    "print(predicted_value)\n",
    "#%%\n",
    "tree.plot_tree(model)\n",
    "#%%\n",
    "zeroes = 0\n",
    "ones = 0\n",
    "for i in range(0,len(t_train)):\n",
    "    if t_train[i] == 0:\n",
    "        zeroes +=1\n",
    "    else:\n",
    "        ones +=1\n",
    "#%%      \n",
    "print(zeroes)\n",
    "print(ones)\n",
    "#%%\n",
    "val = 1 - ((zeroes/70)*2 + (ones/70)*2)\n",
    "print(\"Gini :\",val)\n",
    " \n",
    "match = 0\n",
    "UnMatch = 0\n",
    " \n",
    "for i in range(30):\n",
    "    if predicted_value[i] == t_test[i]:\n",
    "        match += 1\n",
    "    else:\n",
    "        UnMatch += 1\n",
    "         \n",
    "accuracy = match/30\n",
    "print(\"Accuracy is: \",accuracy)"
   ]
  },
  {
   "cell_type": "markdown",
   "id": "dd268bb8",
   "metadata": {},
   "source": [
    "# KNN Algorithm"
   ]
  },
  {
   "cell_type": "code",
   "execution_count": null,
   "id": "d497548c",
   "metadata": {},
   "outputs": [],
   "source": [
    "#elbow method \n",
    "from sklearn.cluster import KMeans\n",
    "\n",
    "wcss=[]\n",
    "for i in range (1,11):\n",
    "    kmeans=KMeans(n_clusters=i,init = 'k-means++',random_state=42)\n",
    "    kmeans.fit(X)\n",
    "    wcss.append(kmeans.inertia_)\n",
    "plt.plot(range(1,11),wcss)\n",
    "plt.title('The Elbow method')\n",
    "plt.xlabel = ('Number of clusters')"
   ]
  },
  {
   "cell_type": "code",
   "execution_count": null,
   "id": "4a54215e",
   "metadata": {},
   "outputs": [],
   "source": [
    "# Fitting K means to the dataset\n",
    "kmeans = KMeans(n_clusters = 3, init ='k-means++',random_state=42)\n",
    "y_kmeans = kmeans.fit_predict(X)\n",
    "print(y_kmeans)"
   ]
  },
  {
   "cell_type": "code",
   "execution_count": null,
   "id": "5682c605",
   "metadata": {},
   "outputs": [],
   "source": [
    "# It predicts the cluster number to which datapoints belong to \n",
    "test = kmeans.predict(np.asarray([[20,0,0,1,0]]))\n",
    "test[0]"
   ]
  },
  {
   "cell_type": "markdown",
   "id": "eda2992e",
   "metadata": {},
   "source": [
    "# Naive Bayes Classifiers"
   ]
  },
  {
   "cell_type": "code",
   "execution_count": 15,
   "id": "0cfc19a5",
   "metadata": {},
   "outputs": [
    {
     "name": "stdout",
     "output_type": "stream",
     "text": [
      "Gaussian Naive Bayes model accuracy(in %): 75.0\n"
     ]
    }
   ],
   "source": [
    "X = finaldf.loc[:,['age', 'genre_Classical', 'genre_Dance', 'genre_HipHop',\n",
    "       'genre_Jazz']]\n",
    "\n",
    "y = finaldf.iloc[:, 1]\n",
    " \n",
    "# splitting X and y into training and testing sets\n",
    "from sklearn.model_selection import train_test_split\n",
    "X_train, X_test, y_train, y_test = train_test_split(X, y, test_size=0.4, random_state=1)\n",
    "\n",
    "# training the model on training set\n",
    "from sklearn.naive_bayes import GaussianNB\n",
    "gnb = GaussianNB()\n",
    "gnb.fit(X_train, y_train)\n",
    " \n",
    "# making predictions on the testing set\n",
    "y_pred = gnb.predict(X_test)\n",
    " \n",
    "# comparing actual response values (y_test) with predicted response values (y_pred)\n",
    "from sklearn import metrics\n",
    "print(\"Gaussian Naive Bayes model accuracy(in %):\", metrics.accuracy_score(y_test, y_pred)*100)"
   ]
  },
  {
   "cell_type": "markdown",
   "id": "9a263898",
   "metadata": {},
   "source": [
    "Observation - We have used different algorith to get the best result as shown in the abouve "
   ]
  },
  {
   "cell_type": "code",
   "execution_count": null,
   "id": "d34debcb",
   "metadata": {},
   "outputs": [],
   "source": []
  }
 ],
 "metadata": {
  "kernelspec": {
   "display_name": "Python 3 (ipykernel)",
   "language": "python",
   "name": "python3"
  },
  "language_info": {
   "codemirror_mode": {
    "name": "ipython",
    "version": 3
   },
   "file_extension": ".py",
   "mimetype": "text/x-python",
   "name": "python",
   "nbconvert_exporter": "python",
   "pygments_lexer": "ipython3",
   "version": "3.9.7"
  }
 },
 "nbformat": 4,
 "nbformat_minor": 5
}
